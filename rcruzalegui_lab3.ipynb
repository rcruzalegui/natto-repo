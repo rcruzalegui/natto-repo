{
  "nbformat": 4,
  "nbformat_minor": 0,
  "metadata": {
    "orig_nbformat": 4,
    "language_info": {
      "name": "python",
      "version": "3.9.6",
      "mimetype": "text/x-python",
      "codemirror_mode": {
        "name": "ipython",
        "version": 3
      },
      "pygments_lexer": "ipython3",
      "nbconvert_exporter": "python",
      "file_extension": ".py"
    },
    "kernelspec": {
      "name": "python3",
      "display_name": "Python 3.9.6 64-bit"
    },
    "interpreter": {
      "hash": "ac59ebe37160ed0dfa835113d9b8498d9f09ceb179beaac4002f036b9467c963"
    },
    "colab": {
      "name": "rcruzalegui_lab3.ipynb",
      "provenance": [],
      "collapsed_sections": [],
      "include_colab_link": true
    }
  },
  "cells": [
    {
      "cell_type": "markdown",
      "metadata": {
        "id": "view-in-github",
        "colab_type": "text"
      },
      "source": [
        "<a href=\"https://colab.research.google.com/github/rcruzalegui/natto-repo/blob/master/rcruzalegui_lab3.ipynb\" target=\"_parent\"><img src=\"https://colab.research.google.com/assets/colab-badge.svg\" alt=\"Open In Colab\"/></a>"
      ]
    },
    {
      "cell_type": "code",
      "metadata": {
        "colab": {
          "base_uri": "https://localhost:8080/"
        },
        "id": "8ypRlBAvICym",
        "outputId": "15d4d2ce-43e2-4f9f-e919-1fca88b41d15"
      },
      "source": [
        "# TensorFlow and tf.keras\n",
        "import tensorflow as tf\n",
        "\n",
        "# Helper libraries\n",
        "import numpy as np\n",
        "import matplotlib.pyplot as plt\n",
        "import sklearn\n",
        "from sklearn.neighbors import KNeighborsClassifier\n",
        "from sklearn.datasets import fetch_openml\n",
        "from sklearn.utils import check_random_state\n",
        "from sklearn.model_selection import train_test_split\n",
        "import seaborn as sns\n",
        "from sklearn.naive_bayes import GaussianNB\n",
        "from sklearn.metrics import accuracy_score\n",
        "from sklearn.metrics import confusion_matrix\n",
        "from sklearn.metrics import classification_report\n",
        "\n",
        "print(tf.__version__)"
      ],
      "execution_count": null,
      "outputs": [
        {
          "output_type": "stream",
          "name": "stdout",
          "text": [
            "2.6.0\n"
          ]
        }
      ]
    },
    {
      "cell_type": "code",
      "metadata": {
        "id": "eLrMiy6fICyp"
      },
      "source": [
        "fashion_mnist = tf.keras.datasets.fashion_mnist\n",
        "data = tf.keras.datasets.fashion_mnist\n",
        "\n",
        "(train_images, train_labels), (test_images, test_labels) = fashion_mnist.load_data()"
      ],
      "execution_count": null,
      "outputs": []
    },
    {
      "cell_type": "code",
      "metadata": {
        "id": "esf-5QNcICyq"
      },
      "source": [
        "class_names = ['T-shirt/top', 'Trouser', 'Pullover', 'Dress', 'Coat',\n",
        "               'Sandal', 'Shirt', 'Sneaker', 'Bag', 'Ankle boot']"
      ],
      "execution_count": null,
      "outputs": []
    },
    {
      "cell_type": "code",
      "metadata": {
        "colab": {
          "base_uri": "https://localhost:8080/"
        },
        "id": "gUa43PhwICyq",
        "outputId": "20073633-07b9-43a9-8d45-fdf7cd429d1b"
      },
      "source": [
        "train_images.shape"
      ],
      "execution_count": null,
      "outputs": [
        {
          "output_type": "execute_result",
          "data": {
            "text/plain": [
              "(60000, 28, 28)"
            ]
          },
          "metadata": {},
          "execution_count": 4
        }
      ]
    },
    {
      "cell_type": "code",
      "metadata": {
        "colab": {
          "base_uri": "https://localhost:8080/"
        },
        "id": "xnuN_bbJICyq",
        "outputId": "c1d71bd4-e45d-4b8a-c48a-b2fe3b5bc53b"
      },
      "source": [
        "len(train_labels)"
      ],
      "execution_count": null,
      "outputs": [
        {
          "output_type": "execute_result",
          "data": {
            "text/plain": [
              "60000"
            ]
          },
          "metadata": {},
          "execution_count": 5
        }
      ]
    },
    {
      "cell_type": "code",
      "metadata": {
        "colab": {
          "base_uri": "https://localhost:8080/"
        },
        "id": "kbrBrfDpICyr",
        "outputId": "707432e4-751a-4a67-e235-907a90ca7179"
      },
      "source": [
        "test_images.shape"
      ],
      "execution_count": null,
      "outputs": [
        {
          "output_type": "execute_result",
          "data": {
            "text/plain": [
              "(10000, 28, 28)"
            ]
          },
          "metadata": {},
          "execution_count": 6
        }
      ]
    },
    {
      "cell_type": "code",
      "metadata": {
        "colab": {
          "base_uri": "https://localhost:8080/"
        },
        "id": "sONTzj_4ICyr",
        "outputId": "7364183d-b483-4ba3-96e4-cbd1319cb64d"
      },
      "source": [
        "len(test_labels)"
      ],
      "execution_count": null,
      "outputs": [
        {
          "output_type": "execute_result",
          "data": {
            "text/plain": [
              "10000"
            ]
          },
          "metadata": {},
          "execution_count": 7
        }
      ]
    },
    {
      "cell_type": "markdown",
      "metadata": {
        "id": "O7Rb9qVyICyr"
      },
      "source": [
        "One way to examine the image is to check the range of the pixel values, it can range from 0 which is black to 255 which is white. "
      ]
    },
    {
      "cell_type": "code",
      "metadata": {
        "colab": {
          "base_uri": "https://localhost:8080/",
          "height": 265
        },
        "id": "q6Zc_TV3ICys",
        "outputId": "a230a236-e5ff-4812-faab-f9d61e6d0776"
      },
      "source": [
        "plt.figure()\n",
        "plt.imshow(train_images[0])\n",
        "plt.colorbar()\n",
        "plt.grid(False)\n",
        "plt.show()"
      ],
      "execution_count": null,
      "outputs": [
        {
          "output_type": "display_data",
          "data": {
            "image/png": "[encoded data removed]",
            "text/plain": [
              "<Figure size 432x288 with 2 Axes>"
            ]
          },
          "metadata": {
            "needs_background": "light"
          }
        }
      ]
    },
    {
      "cell_type": "markdown",
      "metadata": {
        "id": "OWnXvu-jICyt"
      },
      "source": [
        "We need to scale the values down between 0 to 1 "
      ]
    },
    {
      "cell_type": "code",
      "metadata": {
        "id": "--_pa6x6ICyt"
      },
      "source": [
        "train_images = train_images / 255.0\n",
        "\n",
        "test_images = test_images / 255.0"
      ],
      "execution_count": null,
      "outputs": []
    },
    {
      "cell_type": "code",
      "metadata": {
        "id": "1lS5doX4ICyt",
        "colab": {
          "base_uri": "https://localhost:8080/",
          "height": 589
        },
        "outputId": "d3b5f7a1-38e2-4f8e-9ea1-ba2c16662917"
      },
      "source": [
        "plt.figure(figsize=(10,10))\n",
        "for i in range(25):\n",
        "    plt.subplot(5,5,i+1)\n",
        "    plt.xticks([])\n",
        "    plt.yticks([])\n",
        "    plt.grid(False)\n",
        "    plt.imshow(train_images[i], cmap=plt.cm.binary)\n",
        "    plt.xlabel(class_names[train_labels[i]])\n",
        "plt.show()"
      ],
      "execution_count": 59,
      "outputs": [
        {
          "output_type": "display_data",
          "data": {
            "image/png": "[encoded data removed]",
            "text/plain": [
              "<Figure size 720x720 with 25 Axes>"
            ]
          },
          "metadata": {}
        }
      ]
    },
    {
      "cell_type": "markdown",
      "metadata": {
        "id": "I_Twkuc_ICyu"
      },
      "source": [
        "## New Model - Train - Compile - Neural Network Classification Model"
      ]
    },
    {
      "cell_type": "code",
      "metadata": {
        "id": "Xi-q6ZJGICyu"
      },
      "source": [
        "model = tf.keras.Sequential([\n",
        "    tf.keras.layers.Flatten(input_shape=(28, 28)),\n",
        "    tf.keras.layers.Dense(128, activation='relu'),\n",
        "    tf.keras.layers.Dense(10)\n",
        "])"
      ],
      "execution_count": null,
      "outputs": []
    },
    {
      "cell_type": "markdown",
      "metadata": {
        "id": "u6wuFakOICyu"
      },
      "source": [
        "Compile Model "
      ]
    },
    {
      "cell_type": "code",
      "metadata": {
        "id": "geVi_NYmICyu"
      },
      "source": [
        "model.compile(optimizer='adam',\n",
        "              loss=tf.keras.losses.SparseCategoricalCrossentropy(from_logits=True),\n",
        "              metrics=['accuracy'])"
      ],
      "execution_count": null,
      "outputs": []
    },
    {
      "cell_type": "markdown",
      "metadata": {
        "id": "-CwJQ116ICyu"
      },
      "source": [
        "Train the Model "
      ]
    },
    {
      "cell_type": "code",
      "metadata": {
        "id": "pYa1Kd48ICyu"
      },
      "source": [
        "model.fit(train_images, train_labels, epochs=50)"
      ],
      "execution_count": null,
      "outputs": []
    },
    {
      "cell_type": "markdown",
      "metadata": {
        "id": "voopdfjuICyv"
      },
      "source": [
        "Evaluate Accuracy "
      ]
    },
    {
      "cell_type": "code",
      "metadata": {
        "id": "lpiJXVA-ICyv"
      },
      "source": [
        "test_loss, test_acc = model.evaluate(test_images,  test_labels, verbose=2)\n",
        "\n",
        "print('\\nTest accuracy:', test_acc)"
      ],
      "execution_count": null,
      "outputs": []
    },
    {
      "cell_type": "markdown",
      "metadata": {
        "id": "kBH1E_q3MfGu"
      },
      "source": [
        "Changed Optimizer from Adam to SGD "
      ]
    },
    {
      "cell_type": "code",
      "metadata": {
        "id": "QKhQUWYuMdRr"
      },
      "source": [
        "model.compile(optimizer='sgd',\n",
        "              loss=tf.keras.losses.SparseCategoricalCrossentropy(from_logits=True),\n",
        "              metrics=['accuracy'])"
      ],
      "execution_count": null,
      "outputs": []
    },
    {
      "cell_type": "code",
      "metadata": {
        "id": "UCeNq-rdPJAH"
      },
      "source": [
        "model.fit(train_images, train_labels, epochs=50)"
      ],
      "execution_count": null,
      "outputs": []
    },
    {
      "cell_type": "code",
      "metadata": {
        "id": "hfU4_n88PRm0"
      },
      "source": [
        "test_loss, test_acc = model.evaluate(test_images,  test_labels, verbose=2)\n",
        "\n",
        "print('\\nTest accuracy:', test_acc)"
      ],
      "execution_count": null,
      "outputs": []
    },
    {
      "cell_type": "markdown",
      "metadata": {
        "id": "xcmIft1dIvUs"
      },
      "source": [
        "## Random Forest and Naive Bayer "
      ]
    },
    {
      "cell_type": "code",
      "metadata": {
        "id": "Y3zl6ruKIhA7"
      },
      "source": [
        "X, y = fetch_openml('Fashion-MNIST', version=1, return_X_y=True)"
      ],
      "execution_count": null,
      "outputs": []
    },
    {
      "cell_type": "markdown",
      "metadata": {
        "id": "-VmCSFPWI2qf"
      },
      "source": [
        "SCRUB"
      ]
    },
    {
      "cell_type": "code",
      "metadata": {
        "id": "b2g8262AI2A6"
      },
      "source": [
        "# SCRUB\n",
        "random_state = check_random_state(0)\n",
        "permutation = random_state.permutation(X.shape[0])\n",
        "X = X[permutation]\n",
        "y = y[permutation]\n",
        "X = X.reshape((X.shape[0], -1))"
      ],
      "execution_count": null,
      "outputs": []
    },
    {
      "cell_type": "code",
      "metadata": {
        "id": "OeNzeKL1I7CU"
      },
      "source": [
        "# SCRUB - FOR TESTING USE SMALLER\n",
        "train_samples = 60000"
      ],
      "execution_count": null,
      "outputs": []
    },
    {
      "cell_type": "code",
      "metadata": {
        "id": "E2bl1P-JI7k0"
      },
      "source": [
        "# SCRUB - TEST / TRAIN SPLIT\n",
        "\n",
        "X_train, X_test, y_train, y_test = train_test_split(\n",
        "    X, y, train_size=train_samples, test_size=10000)"
      ],
      "execution_count": null,
      "outputs": []
    },
    {
      "cell_type": "markdown",
      "metadata": {
        "id": "KDJfouG6S-pa"
      },
      "source": [
        "### Random Forests"
      ]
    },
    {
      "cell_type": "code",
      "metadata": {
        "id": "qPczVwDeJAvg",
        "colab": {
          "base_uri": "https://localhost:8080/"
        },
        "outputId": "b2f5792d-d4b4-420a-eca7-9f956d35353d"
      },
      "source": [
        "# MODEL BUILD - RANDOM FORESTS\n",
        "\n",
        "from sklearn.ensemble import RandomForestClassifier \n",
        "forest = RandomForestClassifier(n_estimators = 10)\n",
        "forest.fit(X_train, y_train)\n",
        "print('Score: ', forest.score(X_test, y_test))\n",
        "predictions = forest.predict(X_test)"
      ],
      "execution_count": null,
      "outputs": [
        {
          "output_type": "stream",
          "name": "stdout",
          "text": [
            "Score:  0.8428\n"
          ]
        }
      ]
    },
    {
      "cell_type": "markdown",
      "metadata": {
        "id": "8IgpJL7BJJMe"
      },
      "source": [
        "### NAIVE BAYES"
      ]
    },
    {
      "cell_type": "code",
      "metadata": {
        "id": "uPIiL-ecJRrm"
      },
      "source": [
        "# MODEL\n",
        "\n",
        "# Initialize our classifier\n",
        "gnb = GaussianNB()\n",
        "\n",
        "# Train our classifier\n",
        "model = gnb.fit(X_train, y_train)"
      ],
      "execution_count": null,
      "outputs": []
    },
    {
      "cell_type": "code",
      "metadata": {
        "id": "1d_hNP3BJUy0"
      },
      "source": [
        "# MODEL\n",
        "\n",
        "# Make predictions\n",
        "preds = gnb.predict(X_test)\n"
      ],
      "execution_count": null,
      "outputs": []
    },
    {
      "cell_type": "code",
      "metadata": {
        "colab": {
          "base_uri": "https://localhost:8080/"
        },
        "id": "JPPnIyqAJZGR",
        "outputId": "6ed5a476-fade-42e9-b974-93b1a137c0c0"
      },
      "source": [
        "# MODEL\n",
        "# Evaluate accuracy\n",
        "print(accuracy_score(y_test, preds))"
      ],
      "execution_count": null,
      "outputs": [
        {
          "output_type": "stream",
          "name": "stdout",
          "text": [
            "0.5984\n"
          ]
        }
      ]
    },
    {
      "cell_type": "code",
      "metadata": {
        "colab": {
          "base_uri": "https://localhost:8080/"
        },
        "id": "YbkdQB6HJcnJ",
        "outputId": "289d4cc9-3171-4fbd-ace4-403bd01e6e29"
      },
      "source": [
        "# INTERPRET\n",
        "expected = y_test\n",
        "predicted = preds\n",
        "conf_mat = confusion_matrix(expected, predicted)\n",
        "print(conf_mat)\n"
      ],
      "execution_count": null,
      "outputs": [
        {
          "output_type": "stream",
          "name": "stdout",
          "text": [
            "[[616  42  25 185  92   0  19   0  27   0]\n",
            " [  0 919  10  30   3   0   5   0   0   0]\n",
            " [  4  10 293  72 538   0  18   0  17   0]\n",
            " [  7 275   2 679  36   0   3   0   3   0]\n",
            " [  1  26  34 142 790   0   5   0  10   0]\n",
            " [  0   0   0   1   0 271   6 701  16  41]\n",
            " [ 91  24 111 197 453   0  51   0  47   0]\n",
            " [  0   0   0   0   0   7   0 988   3  12]\n",
            " [  2   2   9  84 154   4  29   2 728   1]\n",
            " [  0   0   3   1   1  23   3 338   9 649]]\n"
          ]
        }
      ]
    },
    {
      "cell_type": "code",
      "metadata": {
        "colab": {
          "base_uri": "https://localhost:8080/",
          "height": 609
        },
        "id": "RD7uaojD6Vye",
        "outputId": "43115672-211b-4b65-bd2b-4088cffd97d6"
      },
      "source": [
        "plt.figure(figsize=(10,10))\n",
        "plt.ylabel('True label')\n",
        "plt.xlabel('Predicted label')\n",
        "sns.heatmap(conf_mat,cmap='Blues',annot=True, fmt='d')\n",
        "plt.show"
      ],
      "execution_count": null,
      "outputs": [
        {
          "output_type": "execute_result",
          "data": {
            "text/plain": [
              "<function matplotlib.pyplot.show>"
            ]
          },
          "metadata": {},
          "execution_count": 55
        },
        {
          "output_type": "display_data",
          "data": {
            "image/png": "[encoded data removed]",
            "text/plain": [
              "<Figure size 720x720 with 2 Axes>"
            ]
          },
          "metadata": {
            "needs_background": "light"
          }
        }
      ]
    },
    {
      "cell_type": "code",
      "metadata": {
        "colab": {
          "base_uri": "https://localhost:8080/"
        },
        "id": "-Udk8SaG_Vx1",
        "outputId": "b5a273af-a896-4bb9-cb1d-39b51256d5cf"
      },
      "source": [
        "print(classification_report(expected, predicted))"
      ],
      "execution_count": 60,
      "outputs": [
        {
          "output_type": "stream",
          "name": "stdout",
          "text": [
            "              precision    recall  f1-score   support\n",
            "\n",
            "           0       0.85      0.61      0.71      1006\n",
            "           1       0.71      0.95      0.81       967\n",
            "           2       0.60      0.31      0.41       952\n",
            "           3       0.49      0.68      0.57      1005\n",
            "           4       0.38      0.78      0.51      1008\n",
            "           5       0.89      0.26      0.40      1036\n",
            "           6       0.37      0.05      0.09       974\n",
            "           7       0.49      0.98      0.65      1010\n",
            "           8       0.85      0.72      0.78      1015\n",
            "           9       0.92      0.63      0.75      1027\n",
            "\n",
            "    accuracy                           0.60     10000\n",
            "   macro avg       0.65      0.60      0.57     10000\n",
            "weighted avg       0.66      0.60      0.57     10000\n",
            "\n"
          ]
        }
      ]
    }
  ]
}